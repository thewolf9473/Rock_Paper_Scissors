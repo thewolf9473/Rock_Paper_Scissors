{
  "nbformat": 4,
  "nbformat_minor": 0,
  "metadata": {
    "colab": {
      "name": "Rock_Paper_Scissior.ipynb",
      "provenance": [],
      "collapsed_sections": []
    },
    "kernelspec": {
      "name": "python3",
      "display_name": "Python 3"
    },
    "language_info": {
      "name": "python"
    },
    "accelerator": "GPU"
  },
  "cells": [
    {
      "cell_type": "code",
      "execution_count": 44,
      "metadata": {
        "id": "3z9pyiysz2bt"
      },
      "outputs": [],
      "source": [
        "pip install -q tensorflow tensorflow-datasets"
      ]
    },
    {
      "cell_type": "code",
      "source": [
        "import matplotlib.pyplot as plt\n",
        "import numpy as np\n",
        "\n",
        "import tensorflow as tf\n",
        "import tensorflow_datasets as tfdf\n",
        "\n",
        "from tensorflow import keras\n",
        "tfdf.disable_progress_bar()"
      ],
      "metadata": {
        "id": "qCvZwtDsz3lv"
      },
      "execution_count": 45,
      "outputs": []
    },
    {
      "cell_type": "code",
      "source": [
        "builder = tfdf.builder('rock_paper_scissors')\n",
        "infodf = builder.info\n",
        "\n",
        "infodf"
      ],
      "metadata": {
        "colab": {
          "base_uri": "https://localhost:8080/"
        },
        "id": "c1qjYYG70E_Z",
        "outputId": "579380c7-36a0-418c-a72e-3b65b839e00e"
      },
      "execution_count": 46,
      "outputs": [
        {
          "output_type": "execute_result",
          "data": {
            "text/plain": [
              "tfds.core.DatasetInfo(\n",
              "    name='rock_paper_scissors',\n",
              "    version=3.0.0,\n",
              "    description='Images of hands playing rock, paper, scissor game.',\n",
              "    homepage='http://laurencemoroney.com/rock-paper-scissors-dataset',\n",
              "    features=FeaturesDict({\n",
              "        'image': Image(shape=(300, 300, 3), dtype=tf.uint8),\n",
              "        'label': ClassLabel(shape=(), dtype=tf.int64, num_classes=3),\n",
              "    }),\n",
              "    total_num_examples=2892,\n",
              "    splits={\n",
              "        'test': 372,\n",
              "        'train': 2520,\n",
              "    },\n",
              "    supervised_keys=('image', 'label'),\n",
              "    citation=\"\"\"@ONLINE {rps,\n",
              "    author = \"Laurence Moroney\",\n",
              "    title = \"Rock, Paper, Scissors Dataset\",\n",
              "    month = \"feb\",\n",
              "    year = \"2019\",\n",
              "    url = \"http://laurencemoroney.com/rock-paper-scissors-dataset\"\n",
              "    }\"\"\",\n",
              "    redistribution_info=,\n",
              ")"
            ]
          },
          "metadata": {},
          "execution_count": 46
        }
      ]
    },
    {
      "cell_type": "code",
      "source": [
        "df_train = tfdf.load(name=\"rock_paper_scissors\", split=\"train\")\n",
        "df_test = tfdf.load(name=\"rock_paper_scissors\", split=\"test\")"
      ],
      "metadata": {
        "id": "0WVF_ivm0zuW"
      },
      "execution_count": 47,
      "outputs": []
    },
    {
      "cell_type": "code",
      "source": [
        "df_train"
      ],
      "metadata": {
        "colab": {
          "base_uri": "https://localhost:8080/"
        },
        "id": "sRIl49JP3RlP",
        "outputId": "f3bb1d21-d717-468e-fa17-449cebb11f73"
      },
      "execution_count": 48,
      "outputs": [
        {
          "output_type": "execute_result",
          "data": {
            "text/plain": [
              "<PrefetchDataset element_spec={'image': TensorSpec(shape=(300, 300, 3), dtype=tf.uint8, name=None), 'label': TensorSpec(shape=(), dtype=tf.int64, name=None)}>"
            ]
          },
          "metadata": {},
          "execution_count": 48
        }
      ]
    },
    {
      "cell_type": "markdown",
      "source": [
        "Converting tensors into numpy array format\n"
      ],
      "metadata": {
        "id": "6A5F7pWS-JHG"
      }
    },
    {
      "cell_type": "code",
      "source": [
        "y_train=np.array([df['label'].numpy() for df in df_train])\n",
        "y_test=np.array([df['label'].numpy() for df in df_test])"
      ],
      "metadata": {
        "id": "4gFWNmH36g_L"
      },
      "execution_count": 49,
      "outputs": []
    },
    {
      "cell_type": "markdown",
      "source": [
        "converting images into greyscale"
      ],
      "metadata": {
        "id": "T-t8vqbK-kQw"
      }
    },
    {
      "cell_type": "code",
      "source": [
        "x_train=np.array([df['image'].numpy()[:,:,0] for df in df_train])\n",
        "x_test=np.array([df['image'].numpy()[:,:,0] for df in df_test])"
      ],
      "metadata": {
        "id": "mGwy8yZA7g_d"
      },
      "execution_count": 50,
      "outputs": []
    },
    {
      "cell_type": "code",
      "source": [
        "model = keras.Sequential([\n",
        "   keras.layers.Conv2D(64, 3, activation='relu',input_shape=(300,300,1)),\n",
        "   keras.layers.Conv2D(32, 3, activation='relu'),\n",
        "   keras.layers.MaxPool2D(2,2),\n",
        "   keras.layers.Dropout(0.5),\n",
        "   keras.layers.Flatten(),\n",
        "   keras.layers.Dense(128, activation='relu'),\n",
        "   keras.layers.Dense(3, activation='softmax')\n",
        "])\n",
        "\n",
        "model.compile(optimizer='adam',\n",
        "              loss=keras.losses.SparseCategoricalCrossentropy(),\n",
        "              metrics=['accuracy'])\n",
        "\n",
        "model.fit(x_train, y_train, epochs=5, batch_size=32)"
      ],
      "metadata": {
        "colab": {
          "base_uri": "https://localhost:8080/"
        },
        "id": "5hu0k1yS-iHd",
        "outputId": "9057dcc3-447d-4ad7-9d29-646f44ef5a3f"
      },
      "execution_count": 52,
      "outputs": [
        {
          "output_type": "stream",
          "name": "stdout",
          "text": [
            "Epoch 1/5\n",
            "79/79 [==============================] - 44s 414ms/step - loss: 734.6024 - accuracy: 0.7345\n",
            "Epoch 2/5\n",
            "79/79 [==============================] - 31s 389ms/step - loss: 0.3181 - accuracy: 0.8746\n",
            "Epoch 3/5\n",
            "79/79 [==============================] - 31s 390ms/step - loss: 0.0414 - accuracy: 0.9913\n",
            "Epoch 4/5\n",
            "79/79 [==============================] - 31s 390ms/step - loss: 0.6448 - accuracy: 0.8167\n",
            "Epoch 5/5\n",
            "79/79 [==============================] - 31s 390ms/step - loss: 0.3093 - accuracy: 0.8798\n"
          ]
        },
        {
          "output_type": "execute_result",
          "data": {
            "text/plain": [
              "<keras.callbacks.History at 0x7f5fa03647d0>"
            ]
          },
          "metadata": {},
          "execution_count": 52
        }
      ]
    },
    {
      "cell_type": "code",
      "source": [
        "model.evaluate(x_test, y_test)"
      ],
      "metadata": {
        "colab": {
          "base_uri": "https://localhost:8080/"
        },
        "id": "UAGaGTMs-61Y",
        "outputId": "cbb40820-26e8-4cde-e182-c5934861b663"
      },
      "execution_count": 53,
      "outputs": [
        {
          "output_type": "stream",
          "name": "stdout",
          "text": [
            "12/12 [==============================] - 3s 235ms/step - loss: 1.6982 - accuracy: 0.7608\n"
          ]
        },
        {
          "output_type": "execute_result",
          "data": {
            "text/plain": [
              "[1.6981602907180786, 0.7607526779174805]"
            ]
          },
          "metadata": {},
          "execution_count": 53
        }
      ]
    }
  ]
}